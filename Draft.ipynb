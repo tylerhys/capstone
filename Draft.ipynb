{
 "cells": [
  {
   "cell_type": "markdown",
   "metadata": {},
   "source": [
    "**Introduction**\n",
    "\n"
   ]
  },
  {
   "cell_type": "markdown",
   "metadata": {},
   "source": [
    "Background"
   ]
  },
  {
   "cell_type": "markdown",
   "metadata": {},
   "source": [
    "In the heart of Malaysia lies a bustling and robust city, the capital of the country itself, Kuala Lumpur. With a population of roughly 1.8 million within its 243km2 area (94 square miles), the city remains the source of great opportunity for the people of Malaysia (DOSM, n.d.). Hence, with this being in mind, it is without a doubt that many will look to migrate to the city as they hunt for new opportunities in life.\n",
    "\n",
    "Objective\n",
    "This paper aims itself at helping individuals who are keen on migrating to Kuala Lumpur and are in search of accommodations.  As the city is quite small, the public transport and highways make it convenient to travel around. Hence, locations not only in the city itself but also in Greater Kuala Lumpur is taken into account.\n",
    "The main goal of this paper to determine the best location to live in terms of:\n"
   ]
  },
  {
   "cell_type": "markdown",
   "metadata": {},
   "source": [
    "* variety and availability of restaurants and grocery stores\n",
    "* schools\n",
    "* healthcare facility\n",
    "* recreational spots"
   ]
  },
  {
   "cell_type": "markdown",
   "metadata": {},
   "source": [
    "Data"
   ]
  },
  {
   "cell_type": "markdown",
   "metadata": {},
   "source": [
    "\n",
    "The list of districts in Kuala Lumpur is taken from the website Geographic.org while their locational data is collected through the Geocoder Python Package. The venue data, on the other hand is collected through the Foursquare API. After, descriptive statistical analysis is implemented to explore each district whilst further illustrating the venues present within."
   ]
  },
  {
   "cell_type": "code",
   "execution_count": null,
   "metadata": {},
   "outputs": [],
   "source": []
  }
 ],
 "metadata": {
  "kernelspec": {
   "display_name": "Python",
   "language": "python",
   "name": "conda-env-python-py"
  },
  "language_info": {
   "codemirror_mode": {
    "name": "ipython",
    "version": 3
   },
   "file_extension": ".py",
   "mimetype": "text/x-python",
   "name": "python",
   "nbconvert_exporter": "python",
   "pygments_lexer": "ipython3",
   "version": "3.6.12"
  }
 },
 "nbformat": 4,
 "nbformat_minor": 4
}
